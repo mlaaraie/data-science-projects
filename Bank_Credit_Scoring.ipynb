{
  "nbformat": 4,
  "nbformat_minor": 0,
  "metadata": {
    "colab": {
      "provenance": [],
      "authorship_tag": "ABX9TyP7i9SxorsrS8KMdhSNf6CU",
      "include_colab_link": true
    },
    "kernelspec": {
      "name": "python3",
      "display_name": "Python 3"
    },
    "language_info": {
      "name": "python"
    }
  },
  "cells": [
    {
      "cell_type": "markdown",
      "metadata": {
        "id": "view-in-github",
        "colab_type": "text"
      },
      "source": [
        "<a href=\"https://colab.research.google.com/github/mlaaraie/data-science-projects/blob/main/Bank_Credit_Scoring.ipynb\" target=\"_parent\"><img src=\"https://colab.research.google.com/assets/colab-badge.svg\" alt=\"Open In Colab\"/></a>"
      ]
    },
    {
      "cell_type": "markdown",
      "source": [
        "# Bank Credit Score prediction"
      ],
      "metadata": {
        "id": "iLiUgu6dvFdx"
      }
    },
    {
      "cell_type": "markdown",
      "source": [
        "In this project, we will use machine learning algorithms to predict the credit score of a bank client. We will use client information history to predict his score.\n",
        "In this notebook, we will implement and optimize few algorihtms:\n",
        "\n",
        "\n",
        "1.   Linear Regression\n",
        "2.   Random forest\n",
        "\n"
      ],
      "metadata": {
        "id": "x3Vt1bGtuu4v"
      }
    },
    {
      "cell_type": "code",
      "source": [
        "import numpy as np\n",
        "import pandas as pd\n",
        "import matplotlib.pyplot as plt\n",
        "import seaborn as sns"
      ],
      "metadata": {
        "id": "11WAVxrNu-dO"
      },
      "execution_count": 2,
      "outputs": []
    },
    {
      "cell_type": "code",
      "source": [],
      "metadata": {
        "id": "BhwmEEsMvVxK"
      },
      "execution_count": null,
      "outputs": []
    }
  ]
}